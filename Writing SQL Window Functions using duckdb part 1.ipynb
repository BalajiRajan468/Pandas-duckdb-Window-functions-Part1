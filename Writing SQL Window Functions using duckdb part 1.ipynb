{
 "cells": [
  {
   "cell_type": "code",
   "execution_count": 4,
   "id": "4c2f4acc",
   "metadata": {},
   "outputs": [],
   "source": [
    "import pandas as pd\n",
    "import duckdb"
   ]
  },
  {
   "cell_type": "code",
   "execution_count": 8,
   "id": "16422a86",
   "metadata": {},
   "outputs": [],
   "source": [
    "car_details = pd.DataFrame(\n",
    "data = {\n",
    "   \"carMake\"  : [\"Ford\",\"Renault\",\"Citroen\",\"Ford\",\"Ford\",\"Renault\",\"Citroen\"],\n",
    "   \"carModel\" : [\"Mondeo\",\"Fuego\",\"cactus\",\"Falcon\",\"Galaxy\",\"Megane\",\"Picasso\"],\n",
    "   \"carType\"  : [\"Premium\",\"Sport\",\"Low cost\",\"Premium\",\"Sandard\",\"Sandard\",\"Premium\"],\n",
    "   \"carPrice\" : [18200,16500,19000,8990,12400,14300,23400]\n",
    "},\n",
    ")"
   ]
  },
  {
   "cell_type": "code",
   "execution_count": 12,
   "id": "6df2ed8c",
   "metadata": {},
   "outputs": [
    {
     "name": "stdout",
     "output_type": "stream",
     "text": [
      "┌─────────┬──────────┬──────────┬──────────┐\n",
      "│ carMake │ carModel │ carType  │ carPrice │\n",
      "│ varchar │ varchar  │ varchar  │  int64   │\n",
      "├─────────┼──────────┼──────────┼──────────┤\n",
      "│ Ford    │ Mondeo   │ Premium  │    18200 │\n",
      "│ Renault │ Fuego    │ Sport    │    16500 │\n",
      "│ Citroen │ cactus   │ Low cost │    19000 │\n",
      "│ Ford    │ Falcon   │ Premium  │     8990 │\n",
      "│ Ford    │ Galaxy   │ Sandard  │    12400 │\n",
      "│ Renault │ Megane   │ Sandard  │    14300 │\n",
      "│ Citroen │ Picasso  │ Premium  │    23400 │\n",
      "└─────────┴──────────┴──────────┴──────────┘\n",
      "\n"
     ]
    }
   ],
   "source": [
    "duckdb.sql('SELECT * from car_details').show()\n"
   ]
  },
  {
   "cell_type": "markdown",
   "id": "8e04d5ef",
   "metadata": {},
   "source": [
    "# using AVG() with Over() partition by "
   ]
  },
  {
   "cell_type": "code",
   "execution_count": 15,
   "id": "49f8d6d6",
   "metadata": {},
   "outputs": [
    {
     "name": "stdout",
     "output_type": "stream",
     "text": [
      "┌─────────┬──────────┬──────────┬───────────────────────┬────────────────────────┐\n",
      "│ carMake │ carModel │ carPrice │ overall average price │ car type average price │\n",
      "│ varchar │ varchar  │  int64   │        double         │         double         │\n",
      "├─────────┼──────────┼──────────┼───────────────────────┼────────────────────────┤\n",
      "│ Ford    │ Mondeo   │    18200 │    16112.857142857143 │     16863.333333333332 │\n",
      "│ Ford    │ Falcon   │     8990 │    16112.857142857143 │     16863.333333333332 │\n",
      "│ Citroen │ Picasso  │    23400 │    16112.857142857143 │     16863.333333333332 │\n",
      "│ Ford    │ Galaxy   │    12400 │    16112.857142857143 │                13350.0 │\n",
      "│ Renault │ Megane   │    14300 │    16112.857142857143 │                13350.0 │\n",
      "│ Citroen │ cactus   │    19000 │    16112.857142857143 │                19000.0 │\n",
      "│ Renault │ Fuego    │    16500 │    16112.857142857143 │                16500.0 │\n",
      "└─────────┴──────────┴──────────┴───────────────────────┴────────────────────────┘\n",
      "\n"
     ]
    }
   ],
   "source": [
    "duckdb.sql('SELECT carMake,carModel,carPrice,AVG(carPrice) OVER() AS \"overall average price\",AVG(carPrice) OVER (PARTITION BY carType) AS \"car type average price\" from car_details').show()\n"
   ]
  },
  {
   "cell_type": "markdown",
   "id": "7d5fdc74",
   "metadata": {},
   "source": [
    "# Using Group By"
   ]
  },
  {
   "cell_type": "code",
   "execution_count": 16,
   "id": "610caf1a",
   "metadata": {},
   "outputs": [
    {
     "name": "stdout",
     "output_type": "stream",
     "text": [
      "┌─────────┬────────────────────┬───────────┐\n",
      "│ carMake │   average_price    │ top_price │\n",
      "│ varchar │       double       │   int64   │\n",
      "├─────────┼────────────────────┼───────────┤\n",
      "│ Ford    │ 13196.666666666666 │     18200 │\n",
      "│ Renault │            15400.0 │     16500 │\n",
      "│ Citroen │            21200.0 │     23400 │\n",
      "└─────────┴────────────────────┴───────────┘\n",
      "\n"
     ]
    }
   ],
   "source": [
    "duckdb.sql('SELECT carMake,AVG(carPrice) AS average_price,MAX(carPrice) AS top_price FROM car_details GROUP BY carMake').show()\n"
   ]
  },
  {
   "cell_type": "markdown",
   "id": "a75962b0",
   "metadata": {},
   "source": [
    "# Rank ()"
   ]
  },
  {
   "cell_type": "code",
   "execution_count": 21,
   "id": "ba43370a",
   "metadata": {},
   "outputs": [
    {
     "name": "stdout",
     "output_type": "stream",
     "text": [
      "┌──────────────────┬─────────┬──────────┬──────────┐\n",
      "│ CarModel_Ranking │ carMake │ carModel │ carPrice │\n",
      "│      int64       │ varchar │ varchar  │  int64   │\n",
      "├──────────────────┼─────────┼──────────┼──────────┤\n",
      "│                1 │ Ford    │ Mondeo   │    18200 │\n",
      "│                2 │ Ford    │ Galaxy   │    12400 │\n",
      "│                3 │ Ford    │ Falcon   │     8990 │\n",
      "│                1 │ Renault │ Fuego    │    16500 │\n",
      "│                2 │ Renault │ Megane   │    14300 │\n",
      "│                1 │ Citroen │ Picasso  │    23400 │\n",
      "│                2 │ Citroen │ cactus   │    19000 │\n",
      "└──────────────────┴─────────┴──────────┴──────────┘\n",
      "\n"
     ]
    }
   ],
   "source": [
    "duckdb.sql('SELECT Rank() over(PARTITION BY carMake ORDER BY carPrice Desc) as \"CarModel_Ranking\",carMake,CarModel,carPrice FROM car_details').show()\n"
   ]
  },
  {
   "cell_type": "code",
   "execution_count": null,
   "id": "f59ac1d1",
   "metadata": {},
   "outputs": [],
   "source": []
  }
 ],
 "metadata": {
  "kernelspec": {
   "display_name": "Python 3 (ipykernel)",
   "language": "python",
   "name": "python3"
  },
  "language_info": {
   "codemirror_mode": {
    "name": "ipython",
    "version": 3
   },
   "file_extension": ".py",
   "mimetype": "text/x-python",
   "name": "python",
   "nbconvert_exporter": "python",
   "pygments_lexer": "ipython3",
   "version": "3.11.3"
  }
 },
 "nbformat": 4,
 "nbformat_minor": 5
}
